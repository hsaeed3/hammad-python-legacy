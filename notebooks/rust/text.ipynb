{
 "cells": [
  {
   "cell_type": "code",
   "execution_count": 1,
   "metadata": {},
   "outputs": [
    {
     "name": "stdout",
     "output_type": "stream",
     "text": [
      "Requirement already satisfied: hpyrust_text==0.1.4 in /opt/miniconda3/envs/pure/lib/python3.12/site-packages (0.1.4)\n"
     ]
    }
   ],
   "source": [
    "! pip install hpyrust_text==0.1.4\n",
    "\n",
    "from hammadpy import Core\n",
    "from hammadpy.experimental.text_v2 import Text"
   ]
  },
  {
   "cell_type": "code",
   "execution_count": 2,
   "metadata": {},
   "outputs": [
    {
     "name": "stdout",
     "output_type": "stream",
     "text": [
      "\u001b[31mHello, World!\u001b[0m\n",
      "\u001b[1m\u001b[32mHello, World!\u001b[0m\n",
      "\u001b[1m\u001b[34m\u001b[40mHello, World!\u001b[0m\u001b[49m\n"
     ]
    }
   ],
   "source": [
    "\n",
    "# Text v1 -- Built as a wrapper around Colorama\n",
    "core = Core()\n",
    "core.say(\"Hello, World!\", \"red\")\n",
    "core.say(\"Hello, World!\", \"green\", style=\"bold\")\n",
    "core.say(\"Hello, World!\", \"blue\", \"black\", \"bold\")\n"
   ]
  },
  {
   "cell_type": "code",
   "execution_count": 4,
   "metadata": {},
   "outputs": [
    {
     "ename": "AttributeError",
     "evalue": "module 'hpyrust_text' has no attribute 'say'",
     "output_type": "error",
     "traceback": [
      "\u001b[0;31m---------------------------------------------------------------------------\u001b[0m",
      "\u001b[0;31mAttributeError\u001b[0m                            Traceback (most recent call last)",
      "Cell \u001b[0;32mIn[4], line 2\u001b[0m\n\u001b[1;32m      1\u001b[0m \u001b[38;5;28;01mimport\u001b[39;00m \u001b[38;5;21;01mhpyrust_text\u001b[39;00m\n\u001b[0;32m----> 2\u001b[0m \u001b[43mhpyrust_text\u001b[49m\u001b[38;5;241;43m.\u001b[39;49m\u001b[43msay\u001b[49m(\u001b[38;5;124m\"\u001b[39m\u001b[38;5;124mHello, World!\u001b[39m\u001b[38;5;124m\"\u001b[39m, \u001b[38;5;124m\"\u001b[39m\u001b[38;5;124mred\u001b[39m\u001b[38;5;124m\"\u001b[39m)\n\u001b[1;32m      4\u001b[0m \u001b[38;5;66;03m# Text v2 -- Built with Rust\u001b[39;00m\n\u001b[1;32m      5\u001b[0m text \u001b[38;5;241m=\u001b[39m Text()\n",
      "\u001b[0;31mAttributeError\u001b[0m: module 'hpyrust_text' has no attribute 'say'"
     ]
    }
   ],
   "source": [
    "\n",
    "# Text v2 -- Built with Rust\n",
    "text = Text()\n",
    "text.say(\"Hello, World!\", \"red\")\n",
    "text.say(\"Hello, World!\", \"green\", bold=True)\n",
    "text.say(\"Hello, World!\", \"blue\", bg=\"black\", italic=True)\n",
    "text.say(\"Hello, World!\", \"yellow\", bg=\"blue\", underline=True, bold=True)\n"
   ]
  }
 ],
 "metadata": {
  "kernelspec": {
   "display_name": "pure",
   "language": "python",
   "name": "python3"
  },
  "language_info": {
   "codemirror_mode": {
    "name": "ipython",
    "version": 3
   },
   "file_extension": ".py",
   "mimetype": "text/x-python",
   "name": "python",
   "nbconvert_exporter": "python",
   "pygments_lexer": "ipython3",
   "version": "3.12.2"
  }
 },
 "nbformat": 4,
 "nbformat_minor": 2
}
