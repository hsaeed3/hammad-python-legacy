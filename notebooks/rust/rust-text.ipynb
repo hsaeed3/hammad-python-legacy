{
 "cells": [
  {
   "cell_type": "code",
   "execution_count": 1,
   "metadata": {},
   "outputs": [
    {
     "name": "stdout",
     "output_type": "stream",
     "text": [
      "Requirement already satisfied: hpyrust_text==0.1.5 in /opt/miniconda3/envs/pure/lib/python3.12/site-packages (0.1.5)\n"
     ]
    }
   ],
   "source": [
    "! pip install -q hpyrust_text==0.1.5 \n",
    "! pip install -q hammadpy== 2.6.3\n",
    "\n",
    "from hammadpy import Core\n",
    "from hammadpy.experimental.text_v2 import Text"
   ]
  },
  {
   "cell_type": "code",
   "execution_count": 2,
   "metadata": {},
   "outputs": [
    {
     "name": "stdout",
     "output_type": "stream",
     "text": [
      "\u001b[31mHello, World!\u001b[0m\n",
      "\u001b[1m\u001b[32mHello, World!\u001b[0m\n",
      "\u001b[1m\u001b[34m\u001b[40mHello, World!\u001b[0m\u001b[49m\n"
     ]
    }
   ],
   "source": [
    "\n",
    "# Text v1 -- Built as a wrapper around Colorama\n",
    "core = Core()\n",
    "core.say(\"Hello, World!\", \"red\")\n",
    "core.say(\"Hello, World!\", \"green\", style=\"bold\")\n",
    "core.say(\"Hello, World!\", \"blue\", \"black\", \"bold\")\n"
   ]
  },
  {
   "cell_type": "code",
   "execution_count": 18,
   "metadata": {},
   "outputs": [
    {
     "name": "stdout",
     "output_type": "stream",
     "text": [
      "\u001b[31mColors!\u001b[0m\n",
      "\u001b[1;32mBOLD COLORS!\u001b[0m\n",
      "\u001b[3;40;34mITALIC COLORS!\u001b[0m\n",
      "\u001b[1;4;40;33mHello, World!\u001b[0m\n",
      "\u001b[1;4;3;47;30mHello, World!\u001b[0m\n",
      "\u001b[38;2;0;255;136mYou can use RGB values too!\u001b[0m\n",
      "\u001b[48;2;12;134;175;37mWorks on the background as well!\u001b[0m\n"
     ]
    }
   ],
   "source": [
    "\n",
    "# Text v2 -- Built with Rust\n",
    "# Now capable of handling multiple styles at once\n",
    "# Also captable of underline, italics, better bg color; and best of all.. Custom RGB colors\n",
    "\n",
    "text = Text()\n",
    "text.say(\"Colors!\", \"red\")\n",
    "text.say(\"BOLD COLORS!\", \"green\", bold=True)\n",
    "text.say(\"ITALIC COLORS!\", \"blue\", bg=\"black\", italic=True)\n",
    "text.say(\"Hello, World!\", \"yellow\", bg=\"black\", underline=True, bold=True)\n",
    "text.say(\"Hello, World!\", \"black\", bg=\"white\", underline=True, bold=True, italic=True)\n",
    "text.say(\"You can use RGB values too!\", color=\"rgb(0, 255, 136)\")\n",
    "text.say(\"Works on the background as well!\", bg=\"rgb(12, 134, 175)\")\n",
    "\n"
   ]
  }
 ],
 "metadata": {
  "kernelspec": {
   "display_name": "pure",
   "language": "python",
   "name": "python3"
  },
  "language_info": {
   "codemirror_mode": {
    "name": "ipython",
    "version": 3
   },
   "file_extension": ".py",
   "mimetype": "text/x-python",
   "name": "python",
   "nbconvert_exporter": "python",
   "pygments_lexer": "ipython3",
   "version": "3.12.2"
  }
 },
 "nbformat": 4,
 "nbformat_minor": 2
}
